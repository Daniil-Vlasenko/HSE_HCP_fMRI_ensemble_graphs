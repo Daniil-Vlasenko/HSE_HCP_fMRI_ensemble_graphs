{
 "cells": [
  {
   "cell_type": "code",
   "id": "initial_id",
   "metadata": {
    "collapsed": true,
    "ExecuteTime": {
     "end_time": "2025-03-13T14:08:26.727090Z",
     "start_time": "2025-03-13T14:08:26.720981Z"
    }
   },
   "source": [
    "import paths\n",
    "\n",
    "import numpy as np\n",
    "import pandas as pd\n",
    "import pickle as pk\n",
    "from sklearn.linear_model import LogisticRegression\n",
    "from sklearn.model_selection import train_test_split\n",
    "from sklearn.metrics import accuracy_score, confusion_matrix, classification_report"
   ],
   "outputs": [],
   "execution_count": 38
  },
  {
   "metadata": {
    "ExecuteTime": {
     "end_time": "2025-03-13T13:28:23.221521Z",
     "start_time": "2025-03-13T13:28:23.212232Z"
    }
   },
   "cell_type": "code",
   "source": [
    "wm_0 = [file for file in paths.files_mean_vertices_wm if \"LR\" in file][0::2]\n",
    "wm_1 = [file for file in paths.files_mean_vertices_wm if \"LR\" in file][1::2]\n",
    "\n",
    "gambling_0 = [file for file in paths.files_mean_vertices_gambling if \"LR\" in file][0::2]\n",
    "gambling_1 = [file for file in paths.files_mean_vertices_gambling if \"LR\" in file][1::2]\n",
    "\n",
    "motor_0 = [file for file in paths.files_mean_vertices_motor if \"LR\" in file][0::2]\n",
    "motor_1 = [file for file in paths.files_mean_vertices_motor if \"LR\" in file][1::2]\n",
    "\n",
    "language_0 = [file for file in paths.files_mean_vertices_language if \"LR\" in file][0::2]\n",
    "language_1 = [file for file in paths.files_mean_vertices_language if \"LR\" in file][1::2]\n",
    "\n",
    "social_0 = [file for file in paths.files_mean_vertices_social if \"LR\" in file][0::2]\n",
    "social_1 = [file for file in paths.files_mean_vertices_social if \"LR\" in file][1::2]\n",
    "\n",
    "relational_0 = [file for file in paths.files_mean_vertices_relational if \"LR\" in file][0::2]\n",
    "relational_1 = [file for file in paths.files_mean_vertices_relational if \"LR\" in file][1::2]\n",
    "\n",
    "emotion_0 = [file for file in paths.files_mean_vertices_emotion if \"LR\" in file][0::2]\n",
    "emotion_1 = [file for file in paths.files_mean_vertices_emotion if \"LR\" in file][1::2]"
   ],
   "id": "17dc1b0cd698f08d",
   "outputs": [],
   "execution_count": 26
  },
  {
   "metadata": {
    "ExecuteTime": {
     "end_time": "2025-03-13T13:28:20.261976Z",
     "start_time": "2025-03-13T13:28:20.257832Z"
    }
   },
   "cell_type": "code",
   "source": [
    "def create_Xy(files, y):\n",
    "    rows = []\n",
    "    for file in files:\n",
    "        with open(file, 'rb') as f:\n",
    "            df = pk.load(f)\n",
    "        mean_values = df['mean'].values\n",
    "        rows.append(mean_values)\n",
    "    X = pd.DataFrame(rows, columns=[f\"col_{i+1}\" for i in range(379)])\n",
    "    return X, [y] * len(files)\n"
   ],
   "id": "fa9ddc5f128099dc",
   "outputs": [],
   "execution_count": 25
  },
  {
   "metadata": {
    "ExecuteTime": {
     "end_time": "2025-03-13T13:36:37.696159Z",
     "start_time": "2025-03-13T13:36:34.957461Z"
    }
   },
   "cell_type": "code",
   "source": [
    "all_files = [wm_0, wm_1, gambling_0, gambling_1, motor_0, motor_1, language_0, language_1, \n",
    "             social_0, social_1, relational_0, relational_1, emotion_0, emotion_1]\n",
    "classes = [i for i in range(len(all_files))]\n",
    "\n",
    "X, y = create_Xy(all_files[0], classes[0])\n",
    "for files, clas in zip(all_files[1:], classes[1:]):\n",
    "    X_tmp, y_tmp = create_Xy(files, clas)\n",
    "    X = pd.concat([X, X_tmp], ignore_index=True)\n",
    "    y = y + y_tmp"
   ],
   "id": "8cc070b317e5f99d",
   "outputs": [],
   "execution_count": 35
  },
  {
   "metadata": {
    "ExecuteTime": {
     "end_time": "2025-03-13T14:52:49.291438Z",
     "start_time": "2025-03-13T14:52:48.425133Z"
    }
   },
   "cell_type": "code",
   "source": [
    "# X_train, X_test, y_train, y_test = train_test_split(X, y, test_size=0.2, random_state=0)\n",
    "\n",
    "y = pd.Series(y)\n",
    "mask = (X.index % 9 == 0) | (X.index % 10 == 0)\n",
    "\n",
    "X_test = X[mask]     # строки, где X.index делится на 9 или 10\n",
    "X_train = X[~mask]   # остальные строки\n",
    "\n",
    "y_test = y[mask]\n",
    "y_train = y[~mask]\n",
    "\n",
    "model = LogisticRegression(random_state=0)\n",
    "model.fit(X_train, y_train)\n",
    "\n",
    "y_pred = model.predict(X_test)\n",
    "\n",
    "print(\"Accuracy:\", accuracy_score(y_test, y_pred))\n",
    "print(\"Confusion Matrix:\\n\", confusion_matrix(y_test, y_pred))\n",
    "print(\"Classification Report:\\n\", classification_report(y_test, y_pred))"
   ],
   "id": "f956fded5e5dee27",
   "outputs": [
    {
     "name": "stdout",
     "output_type": "stream",
     "text": [
      "Accuracy: 0.8617086662569146\n",
      "Confusion Matrix:\n",
      " [[105   0   2   2   0   0   0   0   0   0   0   3   0   5]\n",
      " [  0 102   2   8   0   0   0   0   0   0   1   4   0   0]\n",
      " [  0   0  87   1   4   4   1   0   1   0   4   5   2   6]\n",
      " [  1   4   2  89   1   5   0   2   1   0   4   6   1   1]\n",
      " [  1   0   4   3  95   1   0   0   0   0   1   2   2   6]\n",
      " [  0   0   1   4   0 104   0   0   1   0   0   2   4   1]\n",
      " [  1   0   0   0   0   1 113   0   0   0   0   0   0   0]\n",
      " [  0   0   1   0   0   0   0 115   0   0   0   0   0   1]\n",
      " [  0   0   1   0   1   0   0   0 109   0   0   2   2   0]\n",
      " [  1   0   2   0   0   0   0   0   1 113   0   0   0   0]\n",
      " [  1   4   8   5   0   2   0   0   1   0  91   3   1   1]\n",
      " [  1   2   8   4   2   2   0   0   0   0   2  81   5   9]\n",
      " [  0   0   6   3   0   1   0   0   0   0   0   4 103   0]\n",
      " [  3   0   5   2   2   0   0   0   1   0   3   3   1  95]]\n",
      "Classification Report:\n",
      "               precision    recall  f1-score   support\n",
      "\n",
      "           0       0.92      0.90      0.91       117\n",
      "           1       0.91      0.87      0.89       117\n",
      "           2       0.67      0.76      0.71       115\n",
      "           3       0.74      0.76      0.75       117\n",
      "           4       0.90      0.83      0.86       115\n",
      "           5       0.87      0.89      0.88       117\n",
      "           6       0.99      0.98      0.99       115\n",
      "           7       0.98      0.98      0.98       117\n",
      "           8       0.95      0.95      0.95       115\n",
      "           9       1.00      0.97      0.98       117\n",
      "          10       0.86      0.78      0.82       117\n",
      "          11       0.70      0.70      0.70       116\n",
      "          12       0.85      0.88      0.87       117\n",
      "          13       0.76      0.83      0.79       115\n",
      "\n",
      "    accuracy                           0.86      1627\n",
      "   macro avg       0.86      0.86      0.86      1627\n",
      "weighted avg       0.87      0.86      0.86      1627\n",
      "\n"
     ]
    }
   ],
   "execution_count": 51
  },
  {
   "metadata": {
    "ExecuteTime": {
     "end_time": "2025-03-13T14:55:22.511128Z",
     "start_time": "2025-03-13T14:55:22.508531Z"
    }
   },
   "cell_type": "code",
   "source": "gambling_0[:3], relational_0[:3]",
   "id": "53d27579094be4ea",
   "outputs": [
    {
     "data": {
      "text/plain": [
       "(['../../../HCE_HCP_fMRI_graphs/graphs/vertices/mean/GAMBLING/100206_LR_win.pickle',\n",
       "  '../../../HCE_HCP_fMRI_graphs/graphs/vertices/mean/GAMBLING/100610_LR_win.pickle',\n",
       "  '../../../HCE_HCP_fMRI_graphs/graphs/vertices/mean/GAMBLING/101006_LR_win.pickle'],\n",
       " ['../../../HCE_HCP_fMRI_graphs/graphs/vertices/mean/RELATIONAL/100206_LR_relation.pickle',\n",
       "  '../../../HCE_HCP_fMRI_graphs/graphs/vertices/mean/RELATIONAL/100610_LR_relation.pickle',\n",
       "  '../../../HCE_HCP_fMRI_graphs/graphs/vertices/mean/RELATIONAL/101006_LR_relation.pickle'])"
      ]
     },
     "execution_count": 56,
     "metadata": {},
     "output_type": "execute_result"
    }
   ],
   "execution_count": 56
  },
  {
   "metadata": {},
   "cell_type": "code",
   "outputs": [],
   "execution_count": null,
   "source": "",
   "id": "195aedbaa303d70c"
  }
 ],
 "metadata": {
  "kernelspec": {
   "display_name": "Python 3",
   "language": "python",
   "name": "python3"
  },
  "language_info": {
   "codemirror_mode": {
    "name": "ipython",
    "version": 2
   },
   "file_extension": ".py",
   "mimetype": "text/x-python",
   "name": "python",
   "nbconvert_exporter": "python",
   "pygments_lexer": "ipython2",
   "version": "2.7.6"
  }
 },
 "nbformat": 4,
 "nbformat_minor": 5
}
